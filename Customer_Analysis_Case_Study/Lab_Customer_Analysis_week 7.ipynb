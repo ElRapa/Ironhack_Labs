{
 "cells": [
  {
   "cell_type": "markdown",
   "metadata": {},
   "source": [
    "# Lab Customer Analysis Case Study\n",
    "\n",
    "## Import libraries"
   ]
  },
  {
   "cell_type": "code",
   "execution_count": 83,
   "metadata": {},
   "outputs": [],
   "source": [
    "import numpy as np\n",
    "import pandas as pd\n",
    "import matplotlib.pyplot as plt\n",
    "import seaborn as sns\n",
    "%matplotlib inline\n",
    "from sklearn.preprocessing import StandardScaler\n",
    "from sklearn.preprocessing import OneHotEncoder\n",
    "from sklearn.preprocessing import OrdinalEncoder\n",
    "from sklearn.preprocessing import MinMaxScaler\n",
    "from sklearn.linear_model import LinearRegression, Ridge, Lasso\n",
    "from sklearn.neighbors import KNeighborsRegressor\n",
    "from sklearn.model_selection import train_test_split\n",
    "from sklearn.preprocessing import PowerTransformer\n",
    "from sklearn.preprocessing import PolynomialFeatures\n",
    "from sklearn.feature_selection import RFE\n",
    "import statsmodels.api as sm\n",
    "from scipy.stats import boxcox\n",
    "from sklearn.model_selection import train_test_split\n",
    "from sklearn.metrics import r2_score\n",
    "from sklearn.metrics import mean_squared_error as mse\n",
    "from sklearn.metrics import mean_absolute_error #as mae\n",
    "pd.options.display.max_rows = 50\n",
    "from IPython.display import display, HTML"
   ]
  },
  {
   "cell_type": "markdown",
   "metadata": {},
   "source": [
    "## Define functions to clean column labels before concating\n",
    " - all lower case\n",
    " - replace space with underscore"
   ]
  },
  {
   "cell_type": "code",
   "execution_count": 84,
   "metadata": {},
   "outputs": [],
   "source": [
    "# create functions to rename and sort columns\n",
    "# make columns lower case\n",
    "def make_columns_lower_case(df):\n",
    "    #df.columns=[i.lower() for i in df.columns]\n",
    "    df.columns = df.columns.str.lower()\n",
    "    return df\n",
    "\n",
    "# replace space \" \" with underscore \"_\"\n",
    "def replace_space(df):\n",
    "    df.columns=[i.replace(\" \",\"_\") for i in df.columns]\n",
    "    return df\n",
    "\n",
    "# lower and replace space\n",
    "def columns_lower_no_space(df):\n",
    "    \"\"\" \n",
    "    Info: Columns of DataFrame will be manipulated: \n",
    "            1. All letters will be lowered.\n",
    "            2. Spaces \" \" will be replaced with underscores \"_\"\n",
    "    \"\"\"\n",
    "    make_columns_lower_case(df)\n",
    "    replace_space(df)\n",
    "    return df"
   ]
  },
  {
   "cell_type": "markdown",
   "metadata": {},
   "source": [
    "### Load files and clean column names"
   ]
  },
  {
   "cell_type": "code",
   "execution_count": 85,
   "metadata": {},
   "outputs": [],
   "source": [
    "# load data and store in variable\n",
    "df = pd.read_csv(\"Data/Data_Marketing_Customer_Analysis_Round2.csv\", index_col=False)\n",
    "df = columns_lower_no_space(df).drop(columns={\"unnamed:_0\"})"
   ]
  },
  {
   "cell_type": "markdown",
   "metadata": {},
   "source": [
    "### Calculate percentage of NaN values and zero values in columns\n",
    "\n",
    "##### ToDo: add columns for: type, No of categories, range, count, unique"
   ]
  },
  {
   "cell_type": "code",
   "execution_count": 86,
   "metadata": {},
   "outputs": [],
   "source": [
    "# calculate percentage of NaN values and zero values in columns\n",
    "#pd.DataFrame({\"% NaN\" : round(df.isna().sum()/len(df),4)*100, \"% 0.0\" : round(df[df == 0].count(axis=0)/len(df.index)* 100,2)})"
   ]
  },
  {
   "cell_type": "markdown",
   "metadata": {},
   "source": [
    "### Clean data of individual columns"
   ]
  },
  {
   "cell_type": "markdown",
   "metadata": {},
   "source": [
    "#### Clean data of column customer\n",
    "##### Have a look at customer values\n",
    "- show count and unique\n",
    "- show duplicates"
   ]
  },
  {
   "cell_type": "code",
   "execution_count": 87,
   "metadata": {},
   "outputs": [
    {
     "data": {
      "text/plain": [
       "count       10910\n",
       "unique       9134\n",
       "top       ID89933\n",
       "freq            7\n",
       "Name: customer, dtype: object"
      ]
     },
     "execution_count": 87,
     "metadata": {},
     "output_type": "execute_result"
    }
   ],
   "source": [
    "df.customer.describe()"
   ]
  },
  {
   "cell_type": "markdown",
   "metadata": {},
   "source": [
    "### Create function to show duplicates\n",
    "\n",
    "#### ToDo: apply 2nd sort: index"
   ]
  },
  {
   "cell_type": "code",
   "execution_count": 88,
   "metadata": {},
   "outputs": [],
   "source": [
    "def compare_duplicates( df = df, column = None  , amount = 10):\n",
    "    ''' \n",
    "    compare_duplicates( DataFrame = df, column = none, amount = 10)\n",
    "    \n",
    "    column:     column to check for duplicated, if None > check all columns\n",
    "    amount:     show first first amount of rows\n",
    "    '''\n",
    "\n",
    "    try:\n",
    "        return df.loc[df.duplicated(subset=column, keep=False)].sort_values(by=column).head(amount)\n",
    "    except KeyError:\n",
    "        print(\"No duplicates\")"
   ]
  },
  {
   "cell_type": "markdown",
   "metadata": {},
   "source": [
    "### Compare duplicates in column customer\n",
    "- same data?\n",
    "- which one to keep? (last,first,none,all?)\n",
    "- compare values in other columns to see inconsequent values or value pattern"
   ]
  },
  {
   "cell_type": "code",
   "execution_count": 89,
   "metadata": {},
   "outputs": [],
   "source": [
    "# compare_duplicates(df, \"customer\", 10)"
   ]
  },
  {
   "cell_type": "markdown",
   "metadata": {},
   "source": [
    "### Analyse duplicates\n",
    "- customer duplicates are almost the same\n",
    "- second duplicate is cleaner than the first.\n",
    "- keep second"
   ]
  },
  {
   "cell_type": "markdown",
   "metadata": {},
   "source": [
    "### Drop duplicates (based on customer column) and keep last\n",
    "#### Drop column customer"
   ]
  },
  {
   "cell_type": "code",
   "execution_count": 90,
   "metadata": {},
   "outputs": [],
   "source": [
    "## As there are  no nan-values we can\n",
    "## Drop customer duplicates and keep last:\n",
    "df = (df.drop_duplicates(subset = \"customer\", keep=\"last\")\n",
    "        .drop([\"customer\"], axis=1)\n",
    "        .reset_index(drop=True))\n",
    "#df.customer.describe()"
   ]
  },
  {
   "cell_type": "markdown",
   "metadata": {},
   "source": [
    "### Filtering data and Correcting typos \n",
    "#### Filter the data in state and gender column to standardize the texts in those columns"
   ]
  },
  {
   "cell_type": "markdown",
   "metadata": {},
   "source": [
    "#### Clean state column"
   ]
  },
  {
   "cell_type": "code",
   "execution_count": 91,
   "metadata": {},
   "outputs": [],
   "source": [
    "#df.state.value_counts(dropna = False)"
   ]
  },
  {
   "cell_type": "markdown",
   "metadata": {},
   "source": [
    "### Replacing null values\n",
    "#### Replace missing values with means of the column (for numerical columns)\n",
    "\n",
    "#### Overview of Nullvalues and NaN:"
   ]
  },
  {
   "cell_type": "code",
   "execution_count": 92,
   "metadata": {},
   "outputs": [],
   "source": [
    "# calculate percentage of NaN values and zero values in columns\n",
    "# pd.DataFrame({\"% NaN\" : round(df.isna().sum()/len(df),4)*100, \"% 0.0\" : round(df[df == 0].count(axis=0)/len(df.index)* 100,2)})"
   ]
  },
  {
   "cell_type": "markdown",
   "metadata": {},
   "source": [
    "#### Eliminate 0-values in income with calculated mean"
   ]
  },
  {
   "cell_type": "code",
   "execution_count": 93,
   "metadata": {},
   "outputs": [],
   "source": [
    "# have a look at income values\n",
    "#df.income.value_counts(dropna = False)"
   ]
  },
  {
   "cell_type": "markdown",
   "metadata": {},
   "source": [
    "#### Calculate mean of income but ignore 0"
   ]
  },
  {
   "cell_type": "code",
   "execution_count": 94,
   "metadata": {},
   "outputs": [],
   "source": [
    "# calculate mean of income without zero\n",
    "# mean_income_no_zero = df.income.sum()/(df.income.fillna(0).astype(bool).sum())\n",
    "# mean_income_no_zero"
   ]
  },
  {
   "cell_type": "code",
   "execution_count": 95,
   "metadata": {},
   "outputs": [],
   "source": [
    "# replace 0.0-values with mean_income_no_zero\n",
    "#df.income = list(map(lambda x: mean_income_no_zero if x == 0.0 else x, df.income))"
   ]
  },
  {
   "cell_type": "code",
   "execution_count": 96,
   "metadata": {},
   "outputs": [],
   "source": [
    "# Instead of filling in mean replace 0 with last valiable value\n",
    "df.income = df.income.replace(to_replace=0, method='bfill').replace(to_replace=0, method='ffill')"
   ]
  },
  {
   "cell_type": "code",
   "execution_count": 97,
   "metadata": {},
   "outputs": [],
   "source": [
    "## drop columns with less values\n",
    "df = df.drop(columns={'vehicle_type'})"
   ]
  },
  {
   "cell_type": "code",
   "execution_count": 98,
   "metadata": {},
   "outputs": [],
   "source": [
    "## drop rows with no state and response\n",
    "df = df.dropna(how=\"any\")\n",
    "df = df.reset_index().drop(columns={\"index\"})"
   ]
  },
  {
   "cell_type": "code",
   "execution_count": 99,
   "metadata": {},
   "outputs": [
    {
     "data": {
      "text/html": [
       "<div>\n",
       "<style scoped>\n",
       "    .dataframe tbody tr th:only-of-type {\n",
       "        vertical-align: middle;\n",
       "    }\n",
       "\n",
       "    .dataframe tbody tr th {\n",
       "        vertical-align: top;\n",
       "    }\n",
       "\n",
       "    .dataframe thead th {\n",
       "        text-align: right;\n",
       "    }\n",
       "</style>\n",
       "<table border=\"1\" class=\"dataframe\">\n",
       "  <thead>\n",
       "    <tr style=\"text-align: right;\">\n",
       "      <th></th>\n",
       "      <th>% NaN</th>\n",
       "      <th>% 0.0</th>\n",
       "    </tr>\n",
       "  </thead>\n",
       "  <tbody>\n",
       "    <tr>\n",
       "      <th>state</th>\n",
       "      <td>0.00</td>\n",
       "      <td>0.00</td>\n",
       "    </tr>\n",
       "    <tr>\n",
       "      <th>customer_lifetime_value</th>\n",
       "      <td>0.00</td>\n",
       "      <td>0.00</td>\n",
       "    </tr>\n",
       "    <tr>\n",
       "      <th>response</th>\n",
       "      <td>0.00</td>\n",
       "      <td>0.00</td>\n",
       "    </tr>\n",
       "    <tr>\n",
       "      <th>coverage</th>\n",
       "      <td>0.00</td>\n",
       "      <td>0.00</td>\n",
       "    </tr>\n",
       "    <tr>\n",
       "      <th>education</th>\n",
       "      <td>0.00</td>\n",
       "      <td>0.00</td>\n",
       "    </tr>\n",
       "    <tr>\n",
       "      <th>effective_to_date</th>\n",
       "      <td>0.00</td>\n",
       "      <td>0.00</td>\n",
       "    </tr>\n",
       "    <tr>\n",
       "      <th>employmentstatus</th>\n",
       "      <td>0.00</td>\n",
       "      <td>0.00</td>\n",
       "    </tr>\n",
       "    <tr>\n",
       "      <th>gender</th>\n",
       "      <td>0.00</td>\n",
       "      <td>0.00</td>\n",
       "    </tr>\n",
       "    <tr>\n",
       "      <th>income</th>\n",
       "      <td>0.00</td>\n",
       "      <td>0.00</td>\n",
       "    </tr>\n",
       "    <tr>\n",
       "      <th>location_code</th>\n",
       "      <td>0.00</td>\n",
       "      <td>0.00</td>\n",
       "    </tr>\n",
       "    <tr>\n",
       "      <th>marital_status</th>\n",
       "      <td>0.00</td>\n",
       "      <td>0.00</td>\n",
       "    </tr>\n",
       "    <tr>\n",
       "      <th>monthly_premium_auto</th>\n",
       "      <td>0.00</td>\n",
       "      <td>0.00</td>\n",
       "    </tr>\n",
       "    <tr>\n",
       "      <th>months_since_last_claim</th>\n",
       "      <td>0.00</td>\n",
       "      <td>3.52</td>\n",
       "    </tr>\n",
       "    <tr>\n",
       "      <th>months_since_policy_inception</th>\n",
       "      <td>0.00</td>\n",
       "      <td>0.86</td>\n",
       "    </tr>\n",
       "    <tr>\n",
       "      <th>number_of_open_complaints</th>\n",
       "      <td>0.00</td>\n",
       "      <td>79.51</td>\n",
       "    </tr>\n",
       "    <tr>\n",
       "      <th>number_of_policies</th>\n",
       "      <td>0.00</td>\n",
       "      <td>0.00</td>\n",
       "    </tr>\n",
       "    <tr>\n",
       "      <th>policy_type</th>\n",
       "      <td>0.00</td>\n",
       "      <td>0.00</td>\n",
       "    </tr>\n",
       "    <tr>\n",
       "      <th>policy</th>\n",
       "      <td>0.00</td>\n",
       "      <td>0.00</td>\n",
       "    </tr>\n",
       "    <tr>\n",
       "      <th>renew_offer_type</th>\n",
       "      <td>0.00</td>\n",
       "      <td>0.00</td>\n",
       "    </tr>\n",
       "    <tr>\n",
       "      <th>sales_channel</th>\n",
       "      <td>0.00</td>\n",
       "      <td>0.00</td>\n",
       "    </tr>\n",
       "    <tr>\n",
       "      <th>total_claim_amount</th>\n",
       "      <td>0.00</td>\n",
       "      <td>0.00</td>\n",
       "    </tr>\n",
       "    <tr>\n",
       "      <th>vehicle_class</th>\n",
       "      <td>0.00</td>\n",
       "      <td>0.00</td>\n",
       "    </tr>\n",
       "    <tr>\n",
       "      <th>vehicle_size</th>\n",
       "      <td>0.00</td>\n",
       "      <td>0.00</td>\n",
       "    </tr>\n",
       "  </tbody>\n",
       "</table>\n",
       "</div>"
      ],
      "text/plain": [
       "                               % NaN  % 0.0\n",
       "state                           0.00   0.00\n",
       "customer_lifetime_value         0.00   0.00\n",
       "response                        0.00   0.00\n",
       "coverage                        0.00   0.00\n",
       "education                       0.00   0.00\n",
       "effective_to_date               0.00   0.00\n",
       "employmentstatus                0.00   0.00\n",
       "gender                          0.00   0.00\n",
       "income                          0.00   0.00\n",
       "location_code                   0.00   0.00\n",
       "marital_status                  0.00   0.00\n",
       "monthly_premium_auto            0.00   0.00\n",
       "months_since_last_claim         0.00   3.52\n",
       "months_since_policy_inception   0.00   0.86\n",
       "number_of_open_complaints       0.00  79.51\n",
       "number_of_policies              0.00   0.00\n",
       "policy_type                     0.00   0.00\n",
       "policy                          0.00   0.00\n",
       "renew_offer_type                0.00   0.00\n",
       "sales_channel                   0.00   0.00\n",
       "total_claim_amount              0.00   0.00\n",
       "vehicle_class                   0.00   0.00\n",
       "vehicle_size                    0.00   0.00"
      ]
     },
     "execution_count": 99,
     "metadata": {},
     "output_type": "execute_result"
    }
   ],
   "source": [
    "# check NaN and 0.0 again\n",
    "pd.DataFrame({\"% NaN\" : round(df.isna().sum()/len(df),4)*100, \"% 0.0\" : round(df[df == 0].count(axis=0)/len(df.index)* 100,2)})"
   ]
  },
  {
   "cell_type": "markdown",
   "metadata": {},
   "source": [
    "# Activity 2\n",
    "\n",
    "## Bucketing the data - Write a function to replace column \"State\" to different zones. California as West Region, Oregon as North West, and Washington as East, and Arizona and Nevada as Central\n",
    "\n",
    "### create function to rename values. Use dataframe as input and a dict as a renaming advice"
   ]
  },
  {
   "cell_type": "code",
   "execution_count": 100,
   "metadata": {},
   "outputs": [],
   "source": [
    "# def function to rename values\n",
    "def rename_values( x , dict ):\n",
    "    if x in dict.keys():\n",
    "        return x\n",
    "    for key, list_substitutes in dict.items():\n",
    "        if x in list_substitutes:\n",
    "            return key\n",
    "    return"
   ]
  },
  {
   "cell_type": "code",
   "execution_count": 101,
   "metadata": {},
   "outputs": [],
   "source": [
    "# create Dic with valiable values for state as keys and and likely missspelled values as a list of values\n",
    "replace_state_region_dic = {'West Region' : [\"California\"], 'North West' : [\"Oregon\"] , 'East' : [\"Washington\"] , 'Central': [\"Nevada\",\"Arizona\"] }\n",
    "\n",
    "# use rename funcion on df.state\n",
    "df[\"region\"] = list(map(lambda x: rename_values(x,replace_state_region_dic), df.state))\n",
    "# df.region.value_counts()"
   ]
  },
  {
   "cell_type": "markdown",
   "metadata": {},
   "source": [
    "## Standardizing the data – Use string functions to standardize the text data (lower case)"
   ]
  },
  {
   "cell_type": "code",
   "execution_count": 102,
   "metadata": {},
   "outputs": [],
   "source": [
    "# make all string lower case\n",
    "df = df.applymap(lambda x: x if type(x)!=str else x.lower())"
   ]
  },
  {
   "cell_type": "markdown",
   "metadata": {},
   "source": [
    "- Plot the Correlation Heatmap.\n"
   ]
  },
  {
   "cell_type": "code",
   "execution_count": 103,
   "metadata": {},
   "outputs": [],
   "source": [
    "#sns.heatmap(df.corr())"
   ]
  },
  {
   "cell_type": "code",
   "execution_count": 104,
   "metadata": {},
   "outputs": [],
   "source": [
    "#sns.pairplot(df)"
   ]
  },
  {
   "cell_type": "markdown",
   "metadata": {},
   "source": [
    "### Activity 5"
   ]
  },
  {
   "cell_type": "markdown",
   "metadata": {},
   "source": [
    "- Check the data types of the columns. Get the numeric data into dataframe called `numerical` and categorical columns in a dataframe called `categoricals`.\n",
    "(You can use np.number and np.object to select the numerical data types and categorical data types respectively)\n"
   ]
  },
  {
   "cell_type": "code",
   "execution_count": 105,
   "metadata": {},
   "outputs": [],
   "source": [
    "numerical = df.select_dtypes([float,int])\n",
    "#numerical = numerical.drop(columns = ['number_of_open_complaints','number_of_policies'])\n",
    "#numerical"
   ]
  },
  {
   "cell_type": "code",
   "execution_count": 106,
   "metadata": {},
   "outputs": [],
   "source": [
    "categoricals = df.select_dtypes([object])\n",
    "categoricals = categoricals.drop(columns=['effective_to_date','state'])\n",
    "#categoricals[['number_of_open_complaints','number_of_policies']] = df[['number_of_open_complaints','number_of_policies']]\n",
    "#categoricals"
   ]
  },
  {
   "cell_type": "markdown",
   "metadata": {},
   "source": [
    "Removing outliers"
   ]
  },
  {
   "cell_type": "code",
   "execution_count": 107,
   "id": "17aa1a28",
   "metadata": {},
   "outputs": [
    {
     "name": "stderr",
     "output_type": "stream",
     "text": [
      "C:\\ProgramData\\Anaconda3\\envs\\DA_Env\\lib\\site-packages\\seaborn\\_decorators.py:36: FutureWarning: Pass the following variable as a keyword arg: x. From version 0.12, the only valid positional argument will be `data`, and passing other arguments without an explicit keyword will result in an error or misinterpretation.\n",
      "  warnings.warn(\n"
     ]
    },
    {
     "data": {
      "text/plain": [
       "<AxesSubplot:xlabel='customer_lifetime_value'>"
      ]
     },
     "execution_count": 107,
     "metadata": {},
     "output_type": "execute_result"
    },
    {
     "data": {
      "image/png": "[encoded data removed]",
      "text/plain": [
       "<Figure size 432x288 with 1 Axes>"
      ]
     },
     "metadata": {
      "needs_background": "light"
     },
     "output_type": "display_data"
    }
   ],
   "source": [
    "sns.boxplot(numerical.customer_lifetime_value)"
   ]
  },
  {
   "cell_type": "code",
   "execution_count": 108,
   "id": "b61919bf",
   "metadata": {},
   "outputs": [],
   "source": [
    "Q1 = numerical.customer_lifetime_value.quantile(0.25)\n",
    "Q3 = numerical.customer_lifetime_value.quantile(0.75)\n",
    "IQR = Q3 - Q1    #IQR is interquartile range."
   ]
  },
  {
   "cell_type": "code",
   "execution_count": 109,
   "id": "c240d366",
   "metadata": {},
   "outputs": [],
   "source": [
    "filter = (numerical[\"customer_lifetime_value\"] >= Q1 - 1.5 * IQR) & (numerical[\"customer_lifetime_value\"] <= Q3 + 1.5 *IQR)\n",
    "numerical = numerical.loc[filter] "
   ]
  },
  {
   "cell_type": "code",
   "execution_count": 110,
   "metadata": {},
   "outputs": [
    {
     "name": "stderr",
     "output_type": "stream",
     "text": [
      "C:\\ProgramData\\Anaconda3\\envs\\DA_Env\\lib\\site-packages\\seaborn\\_decorators.py:36: FutureWarning: Pass the following variable as a keyword arg: x. From version 0.12, the only valid positional argument will be `data`, and passing other arguments without an explicit keyword will result in an error or misinterpretation.\n",
      "  warnings.warn(\n"
     ]
    },
    {
     "data": {
      "text/plain": [
       "<AxesSubplot:xlabel='customer_lifetime_value'>"
      ]
     },
     "execution_count": 110,
     "metadata": {},
     "output_type": "execute_result"
    },
    {
     "data": {
      "image/png": "[encoded data removed]",
      "text/plain": [
       "<Figure size 432x288 with 1 Axes>"
      ]
     },
     "metadata": {
      "needs_background": "light"
     },
     "output_type": "display_data"
    }
   ],
   "source": [
    "sns.boxplot(numerical.customer_lifetime_value)"
   ]
  },
  {
   "cell_type": "code",
   "execution_count": 111,
   "id": "9d917c99",
   "metadata": {},
   "outputs": [
    {
     "data": {
      "text/plain": [
       "<AxesSubplot:>"
      ]
     },
     "execution_count": 111,
     "metadata": {},
     "output_type": "execute_result"
    },
    {
     "data": {
      "image/png": "[encoded data removed]",
      "text/plain": [
       "<Figure size 432x288 with 1 Axes>"
      ]
     },
     "metadata": {
      "needs_background": "light"
     },
     "output_type": "display_data"
    }
   ],
   "source": [
    "numerical.customer_lifetime_value.hist()"
   ]
  },
  {
   "cell_type": "markdown",
   "metadata": {},
   "source": [
    "## Activity 6\n",
    "\n",
    "  "
   ]
  },
  {
   "cell_type": "markdown",
   "metadata": {},
   "source": [
    " #### X-y split.\n",
    "  "
   ]
  },
  {
   "cell_type": "code",
   "execution_count": 112,
   "metadata": {},
   "outputs": [],
   "source": [
    "# separate x and y\n",
    "#x = df.drop(columns=['total_claim_amount'],axis=1)\n",
    "x = numerical.drop(columns=['total_claim_amount'],axis=1)\n",
    "y = numerical.total_claim_amount "
   ]
  },
  {
   "cell_type": "markdown",
   "metadata": {},
   "source": [
    " #### Normalize (numerical).\n",
    "  "
   ]
  },
  {
   "cell_type": "code",
   "execution_count": 113,
   "metadata": {},
   "outputs": [],
   "source": [
    "# get only numeric\n",
    "x_num=x"
   ]
  },
  {
   "cell_type": "code",
   "execution_count": 114,
   "metadata": {},
   "outputs": [],
   "source": [
    "# x_num.hist(figsize=(12,12))"
   ]
  },
  {
   "cell_type": "code",
   "execution_count": 115,
   "metadata": {},
   "outputs": [],
   "source": [
    "# normalize with standard Scaler\n",
    "x_standard_scaled=StandardScaler().fit_transform(x_num)\n",
    "# x_standard_scaled.shape"
   ]
  },
  {
   "cell_type": "code",
   "execution_count": 116,
   "metadata": {},
   "outputs": [],
   "source": [
    "# pd.DataFrame(x_standard_scaled).hist(figsize=(12,12))"
   ]
  },
  {
   "cell_type": "code",
   "execution_count": 117,
   "metadata": {},
   "outputs": [],
   "source": [
    "# Standardize using Power Transformer\n",
    "x_power_trans = PowerTransformer().fit_transform(x_num)\n",
    "# x_power_trans.shape"
   ]
  },
  {
   "cell_type": "code",
   "execution_count": 118,
   "metadata": {},
   "outputs": [],
   "source": [
    "# pd.DataFrame(x_power_trans).hist(figsize=(12,12))"
   ]
  },
  {
   "cell_type": "markdown",
   "metadata": {},
   "source": [
    "### One Hot/Label Encoding (categorical).\n"
   ]
  },
  {
   "cell_type": "code",
   "execution_count": 119,
   "metadata": {},
   "outputs": [],
   "source": [
    "categoricals_dummies = pd.get_dummies(categoricals, drop_first=True)\n",
    "# categoricals_dummies"
   ]
  },
  {
   "cell_type": "code",
   "execution_count": 120,
   "metadata": {},
   "outputs": [],
   "source": [
    "# categoricals.columns"
   ]
  },
  {
   "cell_type": "code",
   "execution_count": 121,
   "metadata": {},
   "outputs": [],
   "source": [
    "list_cat = []\n",
    "for i in categoricals.columns:\n",
    "    list_cat.append(list(categoricals.loc[:,i].unique()))\n",
    "# list_cat\n"
   ]
  },
  {
   "cell_type": "code",
   "execution_count": 122,
   "metadata": {},
   "outputs": [],
   "source": [
    "Ordinal_Cats = [['no','yes'],\n",
    "['basic','extended','premium'],\n",
    "['high school or below','college','bachelor','master','doctor'],\n",
    "['unemployed','employed','disabled','medical leave','retired'],\n",
    "['f','m'],\n",
    "['urban','suburban','rural'],\n",
    "['single','married','divorced'],\n",
    "['personal auto', 'corporate auto', 'special auto'], \n",
    "['personal l1','personal l2', 'personal l3',      'corporate l1',  'corporate l2', 'corporate l3', 'special l1', 'special l2',  'special l3' ], \n",
    "['offer4', 'offer3', 'offer2', 'offer1'], \n",
    "['call center', 'branch', 'agent', 'web'], \n",
    "['four-door car',  'suv',  'two-door car',  'sports car',  'luxury car',  'luxury suv'],\n",
    "['small', 'medsize', 'large'], \n",
    "['north west','west region','central', 'east']]#,\n",
    "#[0.0, 1.0, 2.0, 3.0, 4.0, 5.0],\n",
    "#[1, 2, 3, 4, 5, 6, 7, 8, 9]]\n",
    " \n",
    "#Ordinal_Cats\n"
   ]
  },
  {
   "cell_type": "code",
   "execution_count": 123,
   "metadata": {},
   "outputs": [],
   "source": [
    "categoricals_ordinal = pd.DataFrame(OrdinalEncoder(categories = Ordinal_Cats).fit_transform(categoricals), columns = categoricals.columns)\n",
    "# categoricals_ordinal"
   ]
  },
  {
   "cell_type": "markdown",
   "metadata": {},
   "source": [
    "### Modelling"
   ]
  },
  {
   "cell_type": "code",
   "execution_count": 124,
   "metadata": {},
   "outputs": [],
   "source": [
    "def model_performance(y_train, y_pred_train, y_test, y_pred_test):\n",
    "\n",
    "    ME_train = np.mean(y_train-y_pred_train)\n",
    "    ME_test  = np.mean(y_test-y_pred_test)\n",
    "\n",
    "    MAE_train = mean_absolute_error(y_train,y_pred_train)\n",
    "    MAE_test  = mean_absolute_error(y_test,y_pred_test)\n",
    "\n",
    "    MSE_train = mse(y_train,y_pred_train)\n",
    "    MSE_test  = mse(y_test,y_pred_test)\n",
    "\n",
    "    RMSE_train = np.sqrt(MSE_train)\n",
    "    RMSE_test  = np.sqrt(MSE_test)\n",
    "\n",
    "    MAPE_train = np.mean((np.abs(y_train-y_pred_train) / y_train)* 100.)\n",
    "    MAPE_test  = np.mean((np.abs(y_test-y_pred_test) / y_test)* 100.)\n",
    "\n",
    "    R2_train = r2_score(y_train,y_pred_train)\n",
    "    R2_test  = r2_score(y_test,y_pred_test)\n",
    "\n",
    "    performance = pd.DataFrame({'Error_metric': ['Mean error','Mean absolute error','Mean squared error',\n",
    "                                             'Root mean squared error','Mean absolute percentual error',\n",
    "                                             'R2'],\n",
    "                            'Train': [ME_train, MAE_train, MSE_train, RMSE_train, MAPE_train, R2_train],\n",
    "                            'Test' : [ME_test, MAE_test , MSE_test, RMSE_test, MAPE_test, R2_test]})\n",
    "\n",
    "    pd.options.display.float_format = '{:.2f}'.format\n",
    "\n",
    "    df_train = pd.DataFrame({'Real': y_train, 'Predicted': y_pred_train})\n",
    "    df_test  = pd.DataFrame({'Real': y_test,  'Predicted': y_pred_test})\n",
    "\n",
    "    return performance, df_train, df_test"
   ]
  },
  {
   "cell_type": "code",
   "execution_count": 156,
   "id": "83dff656",
   "metadata": {},
   "outputs": [],
   "source": [
    "def split_scale(df,y_column):\n",
    "    ''' Input: df\n",
    "        Output: X_train_scaled, X_test_scaled, y_train, y_test as tuple\n",
    "        Enter via split_scale(df)[i]\n",
    "    '''\n",
    "    df = df._get_numeric_data()\n",
    "    X = df.drop(y_column,axis=1)\n",
    "    y = df[y_column]\n",
    "    X_train, X_test, y_train, y_test = train_test_split(X, y, test_size=.30,random_state=123)\n",
    "    std_scaler=StandardScaler().fit(X_train) \n",
    "    X_train_scaled=std_scaler.transform(X_train)\n",
    "    X_test_scaled=std_scaler.transform(X_test)\n",
    "    X_train_scaled = pd.DataFrame(X_train_scaled, index = X_train.index, columns = X_train.columns)\n",
    "    X_test_scaled = pd.DataFrame(X_test_scaled, index = X_test.index, columns = X_test.columns)\n",
    "\n",
    "    return X_train_scaled, X_test_scaled, y_train, y_test\n",
    "\n",
    "def apply_model(X_train, X_test, y_train, y_test, model, constant=False):#,feature_elimination=False):\n",
    "    \n",
    "    if constant == True:\n",
    "        try:\n",
    "            X_train = sm.add_constant(X_train) # adding a constant\n",
    "            X_test = sm.add_constant(X_test) # adding a constant\n",
    "        except:\n",
    "            pass\n",
    "    print(model)\n",
    "    # if feature_elimination:\n",
    "    #     model = RFE(model,n_features_to_select = 3, step = 1, verbose=1)\n",
    "    #     model.fit(X_train,y_train)\n",
    "    #     print(X_train.columns)\n",
    "    # else:\n",
    "    model.fit( X_train,y_train)\n",
    "    y_pred_train = model.predict(X_train)  \n",
    "    y_pred_test = model.predict(X_test)\n",
    "    try:\n",
    "        print_model = model.summary()\n",
    "        print(print_model)\n",
    "    except: \n",
    "        m_p = model_performance(y_train, y_pred_train, y_test, y_pred_test)\n",
    "        display(HTML(m_p[0].to_html()))\n",
    "\n",
    "    return y_pred_train, y_pred_test, y_train, y_test, model\n",
    "\n",
    "def plot_model(predictions_train, predictions_test, y_train, y_test):\n",
    "    # Make an scatter plot y_pred vs y\n",
    "    # What kind of plot you will get if all the all the predictions are ok?\n",
    "    # A stright line\n",
    "\n",
    "    fig, ax = plt.subplots(2,2,figsize=(10,10))\n",
    "    ax[0,0].plot(predictions_test, y_test, 'o',color='#2499be')\n",
    "    ax[0,0].set_xlabel(\"y_test\")\n",
    "    ax[0,0].set_ylabel(\"y_pred\")\n",
    "    ax[0,0].set_title(\"Test Set -Predicted vs real\")\n",
    "\n",
    "    # Get a histogram of the residuals ie: y - y_pred.  Homoscdasticity\n",
    "    # It resembles a normal distribution?\n",
    "    ax[0,1].hist(y_test - predictions_test,color='#2499be')\n",
    "    ax[0,1].set_xlabel(\"Test y-y_pred\")\n",
    "    ax[0,1].set_title(\"Test Set Residual histogram\")\n",
    "\n",
    "    ax[1,0].plot(predictions_train, y_train, 'o',color='#2499be')\n",
    "    ax[1,0].set_xlabel(\"y_train\")\n",
    "    ax[1,0].set_ylabel(\"y_pred_train\")\n",
    "    ax[1,0].set_title(\"Train set Predicted vs real\")\n",
    "\n",
    "    # Get a histogram of the residuals ie: y - y_pred.  Homoscdasticity\n",
    "    # It resembles a normal distribution?\n",
    "    ax[1,1].hist(y_train -predictions_train,color='#2499be')\n",
    "    ax[1,1].set_xlabel(\"Train y-y_pred\")\n",
    "    ax[1,1].set_title(\"Train Residual histogram\")\n",
    "    return\n",
    "    \n",
    "def model_df(df,y_column, model_function, constant = False):#,feature_elimination = False):\n",
    "    df_scaled = split_scale(df,y_column)\n",
    "    model = apply_model(df_scaled[0],df_scaled[1],df_scaled[2],df_scaled[3],model_function,constant)#,feature_elimination)\n",
    "    plot_model(model[0],model[1],model[2],model[3])\n",
    "    return model[4]"
   ]
  },
  {
   "cell_type": "code",
   "execution_count": 157,
   "metadata": {},
   "outputs": [
    {
     "data": {
      "text/html": [
       "<div>\n",
       "<style scoped>\n",
       "    .dataframe tbody tr th:only-of-type {\n",
       "        vertical-align: middle;\n",
       "    }\n",
       "\n",
       "    .dataframe tbody tr th {\n",
       "        vertical-align: top;\n",
       "    }\n",
       "\n",
       "    .dataframe thead th {\n",
       "        text-align: right;\n",
       "    }\n",
       "</style>\n",
       "<table border=\"1\" class=\"dataframe\">\n",
       "  <thead>\n",
       "    <tr style=\"text-align: right;\">\n",
       "      <th></th>\n",
       "      <th>customer_lifetime_value</th>\n",
       "      <th>income</th>\n",
       "      <th>monthly_premium_auto</th>\n",
       "      <th>months_since_last_claim</th>\n",
       "      <th>months_since_policy_inception</th>\n",
       "      <th>number_of_open_complaints</th>\n",
       "      <th>number_of_policies</th>\n",
       "      <th>total_claim_amount</th>\n",
       "      <th>response_yes</th>\n",
       "      <th>coverage_extended</th>\n",
       "      <th>...</th>\n",
       "      <th>vehicle_class_luxury car</th>\n",
       "      <th>vehicle_class_luxury suv</th>\n",
       "      <th>vehicle_class_sports car</th>\n",
       "      <th>vehicle_class_suv</th>\n",
       "      <th>vehicle_class_two-door car</th>\n",
       "      <th>vehicle_size_medsize</th>\n",
       "      <th>vehicle_size_small</th>\n",
       "      <th>region_east</th>\n",
       "      <th>region_north west</th>\n",
       "      <th>region_west region</th>\n",
       "    </tr>\n",
       "  </thead>\n",
       "  <tbody>\n",
       "    <tr>\n",
       "      <th>0</th>\n",
       "      <td>2228.53</td>\n",
       "      <td>22139</td>\n",
       "      <td>64</td>\n",
       "      <td>3.00</td>\n",
       "      <td>26</td>\n",
       "      <td>0.00</td>\n",
       "      <td>1</td>\n",
       "      <td>744.92</td>\n",
       "      <td>0</td>\n",
       "      <td>0</td>\n",
       "      <td>...</td>\n",
       "      <td>0</td>\n",
       "      <td>0</td>\n",
       "      <td>0</td>\n",
       "      <td>0</td>\n",
       "      <td>0</td>\n",
       "      <td>1</td>\n",
       "      <td>0</td>\n",
       "      <td>0</td>\n",
       "      <td>0</td>\n",
       "      <td>1</td>\n",
       "    </tr>\n",
       "    <tr>\n",
       "      <th>1</th>\n",
       "      <td>14947.92</td>\n",
       "      <td>22139</td>\n",
       "      <td>100</td>\n",
       "      <td>34.00</td>\n",
       "      <td>31</td>\n",
       "      <td>0.00</td>\n",
       "      <td>2</td>\n",
       "      <td>480.00</td>\n",
       "      <td>0</td>\n",
       "      <td>0</td>\n",
       "      <td>...</td>\n",
       "      <td>0</td>\n",
       "      <td>0</td>\n",
       "      <td>0</td>\n",
       "      <td>1</td>\n",
       "      <td>0</td>\n",
       "      <td>1</td>\n",
       "      <td>0</td>\n",
       "      <td>1</td>\n",
       "      <td>0</td>\n",
       "      <td>0</td>\n",
       "    </tr>\n",
       "    <tr>\n",
       "      <th>3</th>\n",
       "      <td>5035.04</td>\n",
       "      <td>37405</td>\n",
       "      <td>63</td>\n",
       "      <td>8.00</td>\n",
       "      <td>99</td>\n",
       "      <td>3.00</td>\n",
       "      <td>4</td>\n",
       "      <td>287.56</td>\n",
       "      <td>0</td>\n",
       "      <td>0</td>\n",
       "      <td>...</td>\n",
       "      <td>0</td>\n",
       "      <td>0</td>\n",
       "      <td>0</td>\n",
       "      <td>0</td>\n",
       "      <td>0</td>\n",
       "      <td>1</td>\n",
       "      <td>0</td>\n",
       "      <td>0</td>\n",
       "      <td>0</td>\n",
       "      <td>1</td>\n",
       "    </tr>\n",
       "    <tr>\n",
       "      <th>4</th>\n",
       "      <td>4956.25</td>\n",
       "      <td>87197</td>\n",
       "      <td>63</td>\n",
       "      <td>35.00</td>\n",
       "      <td>45</td>\n",
       "      <td>0.00</td>\n",
       "      <td>3</td>\n",
       "      <td>247.40</td>\n",
       "      <td>0</td>\n",
       "      <td>0</td>\n",
       "      <td>...</td>\n",
       "      <td>0</td>\n",
       "      <td>0</td>\n",
       "      <td>0</td>\n",
       "      <td>0</td>\n",
       "      <td>1</td>\n",
       "      <td>1</td>\n",
       "      <td>0</td>\n",
       "      <td>0</td>\n",
       "      <td>0</td>\n",
       "      <td>1</td>\n",
       "    </tr>\n",
       "    <tr>\n",
       "      <th>5</th>\n",
       "      <td>5989.77</td>\n",
       "      <td>66839</td>\n",
       "      <td>154</td>\n",
       "      <td>33.00</td>\n",
       "      <td>24</td>\n",
       "      <td>0.00</td>\n",
       "      <td>1</td>\n",
       "      <td>739.20</td>\n",
       "      <td>1</td>\n",
       "      <td>0</td>\n",
       "      <td>...</td>\n",
       "      <td>0</td>\n",
       "      <td>0</td>\n",
       "      <td>1</td>\n",
       "      <td>0</td>\n",
       "      <td>0</td>\n",
       "      <td>1</td>\n",
       "      <td>0</td>\n",
       "      <td>0</td>\n",
       "      <td>0</td>\n",
       "      <td>1</td>\n",
       "    </tr>\n",
       "  </tbody>\n",
       "</table>\n",
       "<p>5 rows × 50 columns</p>\n",
       "</div>"
      ],
      "text/plain": [
       "   customer_lifetime_value  income  monthly_premium_auto  \\\n",
       "0                  2228.53   22139                    64   \n",
       "1                 14947.92   22139                   100   \n",
       "3                  5035.04   37405                    63   \n",
       "4                  4956.25   87197                    63   \n",
       "5                  5989.77   66839                   154   \n",
       "\n",
       "   months_since_last_claim  months_since_policy_inception  \\\n",
       "0                     3.00                             26   \n",
       "1                    34.00                             31   \n",
       "3                     8.00                             99   \n",
       "4                    35.00                             45   \n",
       "5                    33.00                             24   \n",
       "\n",
       "   number_of_open_complaints  number_of_policies  total_claim_amount  \\\n",
       "0                       0.00                   1              744.92   \n",
       "1                       0.00                   2              480.00   \n",
       "3                       3.00                   4              287.56   \n",
       "4                       0.00                   3              247.40   \n",
       "5                       0.00                   1              739.20   \n",
       "\n",
       "   response_yes  coverage_extended  ...  vehicle_class_luxury car  \\\n",
       "0             0                  0  ...                         0   \n",
       "1             0                  0  ...                         0   \n",
       "3             0                  0  ...                         0   \n",
       "4             0                  0  ...                         0   \n",
       "5             1                  0  ...                         0   \n",
       "\n",
       "   vehicle_class_luxury suv  vehicle_class_sports car  vehicle_class_suv  \\\n",
       "0                         0                         0                  0   \n",
       "1                         0                         0                  1   \n",
       "3                         0                         0                  0   \n",
       "4                         0                         0                  0   \n",
       "5                         0                         1                  0   \n",
       "\n",
       "   vehicle_class_two-door car  vehicle_size_medsize  vehicle_size_small  \\\n",
       "0                           0                     1                   0   \n",
       "1                           0                     1                   0   \n",
       "3                           0                     1                   0   \n",
       "4                           1                     1                   0   \n",
       "5                           0                     1                   0   \n",
       "\n",
       "   region_east  region_north west  region_west region  \n",
       "0            0                  0                   1  \n",
       "1            1                  0                   0  \n",
       "3            0                  0                   1  \n",
       "4            0                  0                   1  \n",
       "5            0                  0                   1  \n",
       "\n",
       "[5 rows x 50 columns]"
      ]
     },
     "execution_count": 157,
     "metadata": {},
     "output_type": "execute_result"
    }
   ],
   "source": [
    "df = numerical.merge(categoricals_dummies,how='inner',left_index=True,right_index=True)\n",
    "df.head()"
   ]
  },
  {
   "cell_type": "code",
   "execution_count": 158,
   "metadata": {},
   "outputs": [],
   "source": [
    "model = [LinearRegression(),Lasso(alpha=20),Ridge(alpha=20),KNeighborsRegressor()]"
   ]
  },
  {
   "cell_type": "code",
   "execution_count": 159,
   "metadata": {},
   "outputs": [
    {
     "name": "stdout",
     "output_type": "stream",
     "text": [
      "LinearRegression()\n"
     ]
    },
    {
     "data": {
      "text/html": [
       "<table border=\"1\" class=\"dataframe\">\n",
       "  <thead>\n",
       "    <tr style=\"text-align: right;\">\n",
       "      <th></th>\n",
       "      <th>Error_metric</th>\n",
       "      <th>Train</th>\n",
       "      <th>Test</th>\n",
       "    </tr>\n",
       "  </thead>\n",
       "  <tbody>\n",
       "    <tr>\n",
       "      <th>0</th>\n",
       "      <td>Mean error</td>\n",
       "      <td>-0.00</td>\n",
       "      <td>0.02</td>\n",
       "    </tr>\n",
       "    <tr>\n",
       "      <th>1</th>\n",
       "      <td>Mean absolute error</td>\n",
       "      <td>91.96</td>\n",
       "      <td>90.39</td>\n",
       "    </tr>\n",
       "    <tr>\n",
       "      <th>2</th>\n",
       "      <td>Mean squared error</td>\n",
       "      <td>17817.35</td>\n",
       "      <td>16451.10</td>\n",
       "    </tr>\n",
       "    <tr>\n",
       "      <th>3</th>\n",
       "      <td>Root mean squared error</td>\n",
       "      <td>133.48</td>\n",
       "      <td>128.26</td>\n",
       "    </tr>\n",
       "    <tr>\n",
       "      <th>4</th>\n",
       "      <td>Mean absolute percentual error</td>\n",
       "      <td>101.07</td>\n",
       "      <td>68.91</td>\n",
       "    </tr>\n",
       "    <tr>\n",
       "      <th>5</th>\n",
       "      <td>R2</td>\n",
       "      <td>0.77</td>\n",
       "      <td>0.76</td>\n",
       "    </tr>\n",
       "  </tbody>\n",
       "</table>"
      ],
      "text/plain": [
       "<IPython.core.display.HTML object>"
      ]
     },
     "metadata": {},
     "output_type": "display_data"
    },
    {
     "name": "stdout",
     "output_type": "stream",
     "text": [
      "Lasso(alpha=20)\n"
     ]
    },
    {
     "data": {
      "text/html": [
       "<table border=\"1\" class=\"dataframe\">\n",
       "  <thead>\n",
       "    <tr style=\"text-align: right;\">\n",
       "      <th></th>\n",
       "      <th>Error_metric</th>\n",
       "      <th>Train</th>\n",
       "      <th>Test</th>\n",
       "    </tr>\n",
       "  </thead>\n",
       "  <tbody>\n",
       "    <tr>\n",
       "      <th>0</th>\n",
       "      <td>Mean error</td>\n",
       "      <td>0.00</td>\n",
       "      <td>0.38</td>\n",
       "    </tr>\n",
       "    <tr>\n",
       "      <th>1</th>\n",
       "      <td>Mean absolute error</td>\n",
       "      <td>97.06</td>\n",
       "      <td>93.68</td>\n",
       "    </tr>\n",
       "    <tr>\n",
       "      <th>2</th>\n",
       "      <td>Mean squared error</td>\n",
       "      <td>20956.21</td>\n",
       "      <td>18707.23</td>\n",
       "    </tr>\n",
       "    <tr>\n",
       "      <th>3</th>\n",
       "      <td>Root mean squared error</td>\n",
       "      <td>144.76</td>\n",
       "      <td>136.77</td>\n",
       "    </tr>\n",
       "    <tr>\n",
       "      <th>4</th>\n",
       "      <td>Mean absolute percentual error</td>\n",
       "      <td>150.31</td>\n",
       "      <td>87.31</td>\n",
       "    </tr>\n",
       "    <tr>\n",
       "      <th>5</th>\n",
       "      <td>R2</td>\n",
       "      <td>0.73</td>\n",
       "      <td>0.73</td>\n",
       "    </tr>\n",
       "  </tbody>\n",
       "</table>"
      ],
      "text/plain": [
       "<IPython.core.display.HTML object>"
      ]
     },
     "metadata": {},
     "output_type": "display_data"
    },
    {
     "name": "stdout",
     "output_type": "stream",
     "text": [
      "Ridge(alpha=20)\n"
     ]
    },
    {
     "data": {
      "text/html": [
       "<table border=\"1\" class=\"dataframe\">\n",
       "  <thead>\n",
       "    <tr style=\"text-align: right;\">\n",
       "      <th></th>\n",
       "      <th>Error_metric</th>\n",
       "      <th>Train</th>\n",
       "      <th>Test</th>\n",
       "    </tr>\n",
       "  </thead>\n",
       "  <tbody>\n",
       "    <tr>\n",
       "      <th>0</th>\n",
       "      <td>Mean error</td>\n",
       "      <td>0.00</td>\n",
       "      <td>0.04</td>\n",
       "    </tr>\n",
       "    <tr>\n",
       "      <th>1</th>\n",
       "      <td>Mean absolute error</td>\n",
       "      <td>91.71</td>\n",
       "      <td>90.09</td>\n",
       "    </tr>\n",
       "    <tr>\n",
       "      <th>2</th>\n",
       "      <td>Mean squared error</td>\n",
       "      <td>17827.55</td>\n",
       "      <td>16409.30</td>\n",
       "    </tr>\n",
       "    <tr>\n",
       "      <th>3</th>\n",
       "      <td>Root mean squared error</td>\n",
       "      <td>133.52</td>\n",
       "      <td>128.10</td>\n",
       "    </tr>\n",
       "    <tr>\n",
       "      <th>4</th>\n",
       "      <td>Mean absolute percentual error</td>\n",
       "      <td>101.83</td>\n",
       "      <td>68.99</td>\n",
       "    </tr>\n",
       "    <tr>\n",
       "      <th>5</th>\n",
       "      <td>R2</td>\n",
       "      <td>0.77</td>\n",
       "      <td>0.76</td>\n",
       "    </tr>\n",
       "  </tbody>\n",
       "</table>"
      ],
      "text/plain": [
       "<IPython.core.display.HTML object>"
      ]
     },
     "metadata": {},
     "output_type": "display_data"
    },
    {
     "name": "stdout",
     "output_type": "stream",
     "text": [
      "KNeighborsRegressor()\n"
     ]
    },
    {
     "data": {
      "text/html": [
       "<table border=\"1\" class=\"dataframe\">\n",
       "  <thead>\n",
       "    <tr style=\"text-align: right;\">\n",
       "      <th></th>\n",
       "      <th>Error_metric</th>\n",
       "      <th>Train</th>\n",
       "      <th>Test</th>\n",
       "    </tr>\n",
       "  </thead>\n",
       "  <tbody>\n",
       "    <tr>\n",
       "      <th>0</th>\n",
       "      <td>Mean error</td>\n",
       "      <td>8.48</td>\n",
       "      <td>12.83</td>\n",
       "    </tr>\n",
       "    <tr>\n",
       "      <th>1</th>\n",
       "      <td>Mean absolute error</td>\n",
       "      <td>94.97</td>\n",
       "      <td>114.98</td>\n",
       "    </tr>\n",
       "    <tr>\n",
       "      <th>2</th>\n",
       "      <td>Mean squared error</td>\n",
       "      <td>19291.65</td>\n",
       "      <td>27014.49</td>\n",
       "    </tr>\n",
       "    <tr>\n",
       "      <th>3</th>\n",
       "      <td>Root mean squared error</td>\n",
       "      <td>138.89</td>\n",
       "      <td>164.36</td>\n",
       "    </tr>\n",
       "    <tr>\n",
       "      <th>4</th>\n",
       "      <td>Mean absolute percentual error</td>\n",
       "      <td>140.94</td>\n",
       "      <td>119.26</td>\n",
       "    </tr>\n",
       "    <tr>\n",
       "      <th>5</th>\n",
       "      <td>R2</td>\n",
       "      <td>0.75</td>\n",
       "      <td>0.61</td>\n",
       "    </tr>\n",
       "  </tbody>\n",
       "</table>"
      ],
      "text/plain": [
       "<IPython.core.display.HTML object>"
      ]
     },
     "metadata": {},
     "output_type": "display_data"
    },
    {
     "data": {
      "image/png": "[encoded data removed]",
      "text/plain": [
       "<Figure size 720x720 with 4 Axes>"
      ]
     },
     "metadata": {
      "needs_background": "light"
     },
     "output_type": "display_data"
    },
    {
     "data": {
      "image/png": "[encoded data removed]",
      "text/plain": [
       "<Figure size 720x720 with 4 Axes>"
      ]
     },
     "metadata": {
      "needs_background": "light"
     },
     "output_type": "display_data"
    },
    {
     "data": {
      "image/png": "[encoded data removed]",
      "text/plain": [
       "<Figure size 720x720 with 4 Axes>"
      ]
     },
     "metadata": {
      "needs_background": "light"
     },
     "output_type": "display_data"
    },
    {
     "data": {
      "image/png": "[encoded data removed]",
      "text/plain": [
       "<Figure size 720x720 with 4 Axes>"
      ]
     },
     "metadata": {
      "needs_background": "light"
     },
     "output_type": "display_data"
    }
   ],
   "source": [
    "for i in model:\n",
    "    model_df(df,'total_claim_amount',i,False)"
   ]
  },
  {
   "cell_type": "code",
   "execution_count": null,
   "metadata": {},
   "outputs": [],
   "source": []
  },
  {
   "cell_type": "code",
   "execution_count": 183,
   "id": "83dff656",
   "metadata": {},
   "outputs": [],
   "source": [
    "def split_scale(df,y_column):\n",
    "    ''' Input: df\n",
    "        Output: X_train_scaled, X_test_scaled, y_train, y_test as tuple\n",
    "        Enter via split_scale(df)[i]\n",
    "    '''\n",
    "    df = df._get_numeric_data()\n",
    "    X = df.drop(y_column,axis=1)\n",
    "    y = df[y_column]\n",
    "    transformer = PolynomialFeatures(degree=2, include_bias=False)\n",
    "    transformer.fit(X)\n",
    "    X= transformer.transform(X)\n",
    "    X_train, X_test, y_train, y_test = train_test_split(X, y, test_size=.30,random_state=123)#\n",
    "    std_scaler=StandardScaler().fit(X_train) \n",
    "    X_train_scaled=std_scaler.transform(X_train)\n",
    "    X_test_scaled=std_scaler.transform(X_test)\n",
    "    X_train_scaled = pd.DataFrame(X_train_scaled)#, index = X_train.index, columns = X_train.columns)\n",
    "    X_test_scaled = pd.DataFrame(X_test_scaled)#, index = X_test.index, columns = X_test.columns)\n",
    "\n",
    "    return X_train_scaled, X_test_scaled, y_train, y_test\n",
    "\n",
    "def apply_model(X_train, X_test, y_train, y_test, model, constant=False,feature_elimination=False):\n",
    "    \n",
    "    if constant == True:\n",
    "        try:\n",
    "            X_train = sm.add_constant(X_train) # adding a constant\n",
    "            X_test = sm.add_constant(X_test) # adding a constant\n",
    "        except:\n",
    "            pass\n",
    "    print(model)\n",
    "    if feature_elimination:\n",
    "        model = RFE(model,n_features_to_select = 15, step = 20, verbose=1)\n",
    "        model.fit(X_train,y_train)\n",
    "        \n",
    "    else:\n",
    "        model.fit( X_train,y_train)\n",
    "    y_pred_train = model.predict(X_train)  \n",
    "    y_pred_test = model.predict(X_test)\n",
    "    try:\n",
    "        print_model = model.summary()\n",
    "        print(print_model)\n",
    "    except: \n",
    "        m_p = model_performance(y_train, y_pred_train, y_test, y_pred_test)\n",
    "        display(HTML(m_p[0].to_html()))\n",
    "\n",
    "    return y_pred_train, y_pred_test, y_train, y_test, model\n",
    "\n",
    "def plot_model(predictions_train, predictions_test, y_train, y_test):\n",
    "    # Make an scatter plot y_pred vs y\n",
    "    # What kind of plot you will get if all the all the predictions are ok?\n",
    "    # A stright line\n",
    "\n",
    "    fig, ax = plt.subplots(2,2,figsize=(10,10))\n",
    "    ax[0,0].plot(predictions_test, y_test, 'o',color='#2499be')\n",
    "    ax[0,0].set_xlabel(\"y_test\")\n",
    "    ax[0,0].set_ylabel(\"y_pred\")\n",
    "    ax[0,0].set_title(\"Test Set -Predicted vs real\")\n",
    "\n",
    "    # Get a histogram of the residuals ie: y - y_pred.  Homoscdasticity\n",
    "    # It resembles a normal distribution?\n",
    "    ax[0,1].hist(y_test - predictions_test,color='#2499be')\n",
    "    ax[0,1].set_xlabel(\"Test y-y_pred\")\n",
    "    ax[0,1].set_title(\"Test Set Residual histogram\")\n",
    "\n",
    "    ax[1,0].plot(predictions_train, y_train, 'o',color='#2499be')\n",
    "    ax[1,0].set_xlabel(\"y_train\")\n",
    "    ax[1,0].set_ylabel(\"y_pred_train\")\n",
    "    ax[1,0].set_title(\"Train set Predicted vs real\")\n",
    "\n",
    "    # Get a histogram of the residuals ie: y - y_pred.  Homoscdasticity\n",
    "    # It resembles a normal distribution?\n",
    "    ax[1,1].hist(y_train -predictions_train,color='#2499be')\n",
    "    ax[1,1].set_xlabel(\"Train y-y_pred\")\n",
    "    ax[1,1].set_title(\"Train Residual histogram\")\n",
    "    return\n",
    "    \n",
    "def model_df(df,y_column, model_function, constant = False,feature_elimination = False):\n",
    "    df_scaled = split_scale(df,y_column)\n",
    "    model = apply_model(df_scaled[0],df_scaled[1],df_scaled[2],df_scaled[3],model_function,constant,feature_elimination)\n",
    "    plot_model(model[0],model[1],model[2],model[3])\n",
    "    return model[4]"
   ]
  },
  {
   "cell_type": "code",
   "execution_count": null,
   "metadata": {},
   "outputs": [],
   "source": []
  },
  {
   "cell_type": "code",
   "execution_count": 184,
   "metadata": {},
   "outputs": [],
   "source": [
    "model = [LinearRegression(),Lasso(alpha=20),Ridge(alpha=20)]"
   ]
  },
  {
   "cell_type": "code",
   "execution_count": 185,
   "metadata": {},
   "outputs": [
    {
     "name": "stdout",
     "output_type": "stream",
     "text": [
      "LinearRegression()\n",
      "Fitting estimator with 1274 features.\n",
      "Fitting estimator with 1254 features.\n",
      "Fitting estimator with 1234 features.\n",
      "Fitting estimator with 1214 features.\n",
      "Fitting estimator with 1194 features.\n",
      "Fitting estimator with 1174 features.\n",
      "Fitting estimator with 1154 features.\n",
      "Fitting estimator with 1134 features.\n",
      "Fitting estimator with 1114 features.\n",
      "Fitting estimator with 1094 features.\n",
      "Fitting estimator with 1074 features.\n",
      "Fitting estimator with 1054 features.\n",
      "Fitting estimator with 1034 features.\n",
      "Fitting estimator with 1014 features.\n",
      "Fitting estimator with 994 features.\n",
      "Fitting estimator with 974 features.\n",
      "Fitting estimator with 954 features.\n",
      "Fitting estimator with 934 features.\n",
      "Fitting estimator with 914 features.\n",
      "Fitting estimator with 894 features.\n",
      "Fitting estimator with 874 features.\n",
      "Fitting estimator with 854 features.\n",
      "Fitting estimator with 834 features.\n",
      "Fitting estimator with 814 features.\n",
      "Fitting estimator with 794 features.\n",
      "Fitting estimator with 774 features.\n",
      "Fitting estimator with 754 features.\n",
      "Fitting estimator with 734 features.\n",
      "Fitting estimator with 714 features.\n",
      "Fitting estimator with 694 features.\n",
      "Fitting estimator with 674 features.\n",
      "Fitting estimator with 654 features.\n",
      "Fitting estimator with 634 features.\n",
      "Fitting estimator with 614 features.\n",
      "Fitting estimator with 594 features.\n",
      "Fitting estimator with 574 features.\n",
      "Fitting estimator with 554 features.\n",
      "Fitting estimator with 534 features.\n",
      "Fitting estimator with 514 features.\n",
      "Fitting estimator with 494 features.\n",
      "Fitting estimator with 474 features.\n",
      "Fitting estimator with 454 features.\n",
      "Fitting estimator with 434 features.\n",
      "Fitting estimator with 414 features.\n",
      "Fitting estimator with 394 features.\n",
      "Fitting estimator with 374 features.\n",
      "Fitting estimator with 354 features.\n",
      "Fitting estimator with 334 features.\n",
      "Fitting estimator with 314 features.\n",
      "Fitting estimator with 294 features.\n",
      "Fitting estimator with 274 features.\n",
      "Fitting estimator with 254 features.\n",
      "Fitting estimator with 234 features.\n",
      "Fitting estimator with 214 features.\n",
      "Fitting estimator with 194 features.\n",
      "Fitting estimator with 174 features.\n",
      "Fitting estimator with 154 features.\n",
      "Fitting estimator with 134 features.\n",
      "Fitting estimator with 114 features.\n",
      "Fitting estimator with 94 features.\n",
      "Fitting estimator with 74 features.\n",
      "Fitting estimator with 54 features.\n",
      "Fitting estimator with 34 features.\n"
     ]
    },
    {
     "data": {
      "text/html": [
       "<table border=\"1\" class=\"dataframe\">\n",
       "  <thead>\n",
       "    <tr style=\"text-align: right;\">\n",
       "      <th></th>\n",
       "      <th>Error_metric</th>\n",
       "      <th>Train</th>\n",
       "      <th>Test</th>\n",
       "    </tr>\n",
       "  </thead>\n",
       "  <tbody>\n",
       "    <tr>\n",
       "      <th>0</th>\n",
       "      <td>Mean error</td>\n",
       "      <td>-0.00</td>\n",
       "      <td>-0.55</td>\n",
       "    </tr>\n",
       "    <tr>\n",
       "      <th>1</th>\n",
       "      <td>Mean absolute error</td>\n",
       "      <td>143.39</td>\n",
       "      <td>138.31</td>\n",
       "    </tr>\n",
       "    <tr>\n",
       "      <th>2</th>\n",
       "      <td>Mean squared error</td>\n",
       "      <td>39504.21</td>\n",
       "      <td>34224.22</td>\n",
       "    </tr>\n",
       "    <tr>\n",
       "      <th>3</th>\n",
       "      <td>Root mean squared error</td>\n",
       "      <td>198.76</td>\n",
       "      <td>185.00</td>\n",
       "    </tr>\n",
       "    <tr>\n",
       "      <th>4</th>\n",
       "      <td>Mean absolute percentual error</td>\n",
       "      <td>191.87</td>\n",
       "      <td>96.09</td>\n",
       "    </tr>\n",
       "    <tr>\n",
       "      <th>5</th>\n",
       "      <td>R2</td>\n",
       "      <td>0.49</td>\n",
       "      <td>0.51</td>\n",
       "    </tr>\n",
       "  </tbody>\n",
       "</table>"
      ],
      "text/plain": [
       "<IPython.core.display.HTML object>"
      ]
     },
     "metadata": {},
     "output_type": "display_data"
    },
    {
     "name": "stdout",
     "output_type": "stream",
     "text": [
      "Lasso(alpha=20)\n",
      "Fitting estimator with 1274 features.\n",
      "Fitting estimator with 1254 features.\n",
      "Fitting estimator with 1234 features.\n",
      "Fitting estimator with 1214 features.\n",
      "Fitting estimator with 1194 features.\n",
      "Fitting estimator with 1174 features.\n",
      "Fitting estimator with 1154 features.\n",
      "Fitting estimator with 1134 features.\n",
      "Fitting estimator with 1114 features.\n",
      "Fitting estimator with 1094 features.\n",
      "Fitting estimator with 1074 features.\n",
      "Fitting estimator with 1054 features.\n",
      "Fitting estimator with 1034 features.\n",
      "Fitting estimator with 1014 features.\n",
      "Fitting estimator with 994 features.\n",
      "Fitting estimator with 974 features.\n",
      "Fitting estimator with 954 features.\n",
      "Fitting estimator with 934 features.\n",
      "Fitting estimator with 914 features.\n",
      "Fitting estimator with 894 features.\n",
      "Fitting estimator with 874 features.\n",
      "Fitting estimator with 854 features.\n",
      "Fitting estimator with 834 features.\n",
      "Fitting estimator with 814 features.\n",
      "Fitting estimator with 794 features.\n",
      "Fitting estimator with 774 features.\n",
      "Fitting estimator with 754 features.\n",
      "Fitting estimator with 734 features.\n",
      "Fitting estimator with 714 features.\n",
      "Fitting estimator with 694 features.\n",
      "Fitting estimator with 674 features.\n",
      "Fitting estimator with 654 features.\n",
      "Fitting estimator with 634 features.\n",
      "Fitting estimator with 614 features.\n",
      "Fitting estimator with 594 features.\n",
      "Fitting estimator with 574 features.\n",
      "Fitting estimator with 554 features.\n",
      "Fitting estimator with 534 features.\n",
      "Fitting estimator with 514 features.\n",
      "Fitting estimator with 494 features.\n",
      "Fitting estimator with 474 features.\n",
      "Fitting estimator with 454 features.\n",
      "Fitting estimator with 434 features.\n",
      "Fitting estimator with 414 features.\n",
      "Fitting estimator with 394 features.\n",
      "Fitting estimator with 374 features.\n",
      "Fitting estimator with 354 features.\n",
      "Fitting estimator with 334 features.\n",
      "Fitting estimator with 314 features.\n",
      "Fitting estimator with 294 features.\n",
      "Fitting estimator with 274 features.\n",
      "Fitting estimator with 254 features.\n",
      "Fitting estimator with 234 features.\n",
      "Fitting estimator with 214 features.\n",
      "Fitting estimator with 194 features.\n",
      "Fitting estimator with 174 features.\n",
      "Fitting estimator with 154 features.\n",
      "Fitting estimator with 134 features.\n",
      "Fitting estimator with 114 features.\n",
      "Fitting estimator with 94 features.\n",
      "Fitting estimator with 74 features.\n",
      "Fitting estimator with 54 features.\n",
      "Fitting estimator with 34 features.\n"
     ]
    },
    {
     "data": {
      "text/html": [
       "<table border=\"1\" class=\"dataframe\">\n",
       "  <thead>\n",
       "    <tr style=\"text-align: right;\">\n",
       "      <th></th>\n",
       "      <th>Error_metric</th>\n",
       "      <th>Train</th>\n",
       "      <th>Test</th>\n",
       "    </tr>\n",
       "  </thead>\n",
       "  <tbody>\n",
       "    <tr>\n",
       "      <th>0</th>\n",
       "      <td>Mean error</td>\n",
       "      <td>-0.00</td>\n",
       "      <td>-0.42</td>\n",
       "    </tr>\n",
       "    <tr>\n",
       "      <th>1</th>\n",
       "      <td>Mean absolute error</td>\n",
       "      <td>85.40</td>\n",
       "      <td>81.39</td>\n",
       "    </tr>\n",
       "    <tr>\n",
       "      <th>2</th>\n",
       "      <td>Mean squared error</td>\n",
       "      <td>15705.99</td>\n",
       "      <td>13994.84</td>\n",
       "    </tr>\n",
       "    <tr>\n",
       "      <th>3</th>\n",
       "      <td>Root mean squared error</td>\n",
       "      <td>125.32</td>\n",
       "      <td>118.30</td>\n",
       "    </tr>\n",
       "    <tr>\n",
       "      <th>4</th>\n",
       "      <td>Mean absolute percentual error</td>\n",
       "      <td>131.13</td>\n",
       "      <td>72.45</td>\n",
       "    </tr>\n",
       "    <tr>\n",
       "      <th>5</th>\n",
       "      <td>R2</td>\n",
       "      <td>0.80</td>\n",
       "      <td>0.80</td>\n",
       "    </tr>\n",
       "  </tbody>\n",
       "</table>"
      ],
      "text/plain": [
       "<IPython.core.display.HTML object>"
      ]
     },
     "metadata": {},
     "output_type": "display_data"
    },
    {
     "name": "stdout",
     "output_type": "stream",
     "text": [
      "Ridge(alpha=20)\n",
      "Fitting estimator with 1274 features.\n",
      "Fitting estimator with 1254 features.\n",
      "Fitting estimator with 1234 features.\n",
      "Fitting estimator with 1214 features.\n",
      "Fitting estimator with 1194 features.\n",
      "Fitting estimator with 1174 features.\n",
      "Fitting estimator with 1154 features.\n",
      "Fitting estimator with 1134 features.\n",
      "Fitting estimator with 1114 features.\n",
      "Fitting estimator with 1094 features.\n",
      "Fitting estimator with 1074 features.\n",
      "Fitting estimator with 1054 features.\n",
      "Fitting estimator with 1034 features.\n",
      "Fitting estimator with 1014 features.\n",
      "Fitting estimator with 994 features.\n",
      "Fitting estimator with 974 features.\n",
      "Fitting estimator with 954 features.\n",
      "Fitting estimator with 934 features.\n",
      "Fitting estimator with 914 features.\n",
      "Fitting estimator with 894 features.\n",
      "Fitting estimator with 874 features.\n",
      "Fitting estimator with 854 features.\n",
      "Fitting estimator with 834 features.\n",
      "Fitting estimator with 814 features.\n",
      "Fitting estimator with 794 features.\n",
      "Fitting estimator with 774 features.\n",
      "Fitting estimator with 754 features.\n",
      "Fitting estimator with 734 features.\n",
      "Fitting estimator with 714 features.\n",
      "Fitting estimator with 694 features.\n",
      "Fitting estimator with 674 features.\n",
      "Fitting estimator with 654 features.\n",
      "Fitting estimator with 634 features.\n",
      "Fitting estimator with 614 features.\n",
      "Fitting estimator with 594 features.\n",
      "Fitting estimator with 574 features.\n",
      "Fitting estimator with 554 features.\n",
      "Fitting estimator with 534 features.\n",
      "Fitting estimator with 514 features.\n",
      "Fitting estimator with 494 features.\n",
      "Fitting estimator with 474 features.\n",
      "Fitting estimator with 454 features.\n",
      "Fitting estimator with 434 features.\n",
      "Fitting estimator with 414 features.\n",
      "Fitting estimator with 394 features.\n",
      "Fitting estimator with 374 features.\n",
      "Fitting estimator with 354 features.\n",
      "Fitting estimator with 334 features.\n",
      "Fitting estimator with 314 features.\n",
      "Fitting estimator with 294 features.\n",
      "Fitting estimator with 274 features.\n",
      "Fitting estimator with 254 features.\n",
      "Fitting estimator with 234 features.\n",
      "Fitting estimator with 214 features.\n",
      "Fitting estimator with 194 features.\n",
      "Fitting estimator with 174 features.\n",
      "Fitting estimator with 154 features.\n",
      "Fitting estimator with 134 features.\n",
      "Fitting estimator with 114 features.\n",
      "Fitting estimator with 94 features.\n",
      "Fitting estimator with 74 features.\n",
      "Fitting estimator with 54 features.\n",
      "Fitting estimator with 34 features.\n"
     ]
    },
    {
     "data": {
      "text/html": [
       "<table border=\"1\" class=\"dataframe\">\n",
       "  <thead>\n",
       "    <tr style=\"text-align: right;\">\n",
       "      <th></th>\n",
       "      <th>Error_metric</th>\n",
       "      <th>Train</th>\n",
       "      <th>Test</th>\n",
       "    </tr>\n",
       "  </thead>\n",
       "  <tbody>\n",
       "    <tr>\n",
       "      <th>0</th>\n",
       "      <td>Mean error</td>\n",
       "      <td>-0.00</td>\n",
       "      <td>0.05</td>\n",
       "    </tr>\n",
       "    <tr>\n",
       "      <th>1</th>\n",
       "      <td>Mean absolute error</td>\n",
       "      <td>77.03</td>\n",
       "      <td>73.38</td>\n",
       "    </tr>\n",
       "    <tr>\n",
       "      <th>2</th>\n",
       "      <td>Mean squared error</td>\n",
       "      <td>13280.25</td>\n",
       "      <td>12266.08</td>\n",
       "    </tr>\n",
       "    <tr>\n",
       "      <th>3</th>\n",
       "      <td>Root mean squared error</td>\n",
       "      <td>115.24</td>\n",
       "      <td>110.75</td>\n",
       "    </tr>\n",
       "    <tr>\n",
       "      <th>4</th>\n",
       "      <td>Mean absolute percentual error</td>\n",
       "      <td>81.98</td>\n",
       "      <td>49.04</td>\n",
       "    </tr>\n",
       "    <tr>\n",
       "      <th>5</th>\n",
       "      <td>R2</td>\n",
       "      <td>0.83</td>\n",
       "      <td>0.82</td>\n",
       "    </tr>\n",
       "  </tbody>\n",
       "</table>"
      ],
      "text/plain": [
       "<IPython.core.display.HTML object>"
      ]
     },
     "metadata": {},
     "output_type": "display_data"
    },
    {
     "data": {
      "image/png": "[encoded data removed]",
      "text/plain": [
       "<Figure size 720x720 with 4 Axes>"
      ]
     },
     "metadata": {
      "needs_background": "light"
     },
     "output_type": "display_data"
    },
    {
     "data": {
      "image/png": "[encoded data removed]",
      "text/plain": [
       "<Figure size 720x720 with 4 Axes>"
      ]
     },
     "metadata": {
      "needs_background": "light"
     },
     "output_type": "display_data"
    },
    {
     "data": {
      "image/png": "[encoded data removed]",
      "text/plain": [
       "<Figure size 720x720 with 4 Axes>"
      ]
     },
     "metadata": {
      "needs_background": "light"
     },
     "output_type": "display_data"
    }
   ],
   "source": [
    "for i in model:\n",
    "    model_df(df,'total_claim_amount',i,False,True)"
   ]
  },
  {
   "cell_type": "code",
   "execution_count": null,
   "metadata": {},
   "outputs": [],
   "source": []
  }
 ],
 "metadata": {
  "interpreter": {
   "hash": "bfcfd5de7629ab692414048eb27291efd7d2258e9194efee115e7dde625bb37e"
  },
  "kernelspec": {
   "display_name": "Python 3.9.6 64-bit ('DA_Env': conda)",
   "name": "python3"
  },
  "language_info": {
   "codemirror_mode": {
    "name": "ipython",
    "version": 3
   },
   "file_extension": ".py",
   "mimetype": "text/x-python",
   "name": "python",
   "nbconvert_exporter": "python",
   "pygments_lexer": "ipython3",
   "version": "3.9.6"
  }
 },
 "nbformat": 4,
 "nbformat_minor": 2
}
